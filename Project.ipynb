{
 "cells": [
  {
   "cell_type": "code",
   "execution_count": null,
   "metadata": {},
   "outputs": [],
   "source": [
    "import tensorflow as tf\n",
    "from tensorflow import keras\n",
    "from tensorflow.keras import layers\n",
    "\n",
    "import pandas as pd\n",
    "import numpy as np\n",
    "import matplotlib.pyplot as plt\n",
    "import seaborn as sns\n",
    "import os\n",
    "import cv2\n",
    "import random\n",
    "import shutil"
   ]
  },
  {
   "cell_type": "code",
   "execution_count": 1,
   "metadata": {},
   "outputs": [
    {
     "ename": "NameError",
     "evalue": "name 'pd' is not defined",
     "output_type": "error",
     "traceback": [
      "\u001b[0;31m---------------------------------------------------------------------------\u001b[0m",
      "\u001b[0;31mNameError\u001b[0m                                 Traceback (most recent call last)",
      "\u001b[0;32m/var/folders/wb/bxhmbnyj6zv0zcm8h9dbnkc00000gn/T/ipykernel_37736/3595970471.py\u001b[0m in \u001b[0;36m<module>\u001b[0;34m\u001b[0m\n\u001b[1;32m      1\u001b[0m \u001b[0;31m# Read the Data\u001b[0m\u001b[0;34m\u001b[0m\u001b[0;34m\u001b[0m\u001b[0;34m\u001b[0m\u001b[0m\n\u001b[0;32m----> 2\u001b[0;31m \u001b[0mbird_species\u001b[0m \u001b[0;34m=\u001b[0m \u001b[0mpd\u001b[0m\u001b[0;34m.\u001b[0m\u001b[0mread_csv\u001b[0m\u001b[0;34m(\u001b[0m\u001b[0;34m'/Users/sandeepreddy/Documents/concordia-bootcamps/predictive_modelling_competition/data/class_dict.csv'\u001b[0m\u001b[0;34m)\u001b[0m\u001b[0;34m\u001b[0m\u001b[0;34m\u001b[0m\u001b[0m\n\u001b[0m\u001b[1;32m      3\u001b[0m \u001b[0;31m# Select 5 random birds\u001b[0m\u001b[0;34m\u001b[0m\u001b[0;34m\u001b[0m\u001b[0;34m\u001b[0m\u001b[0m\n\u001b[1;32m      4\u001b[0m \u001b[0mbs_list\u001b[0m \u001b[0;34m=\u001b[0m \u001b[0msorted\u001b[0m\u001b[0;34m(\u001b[0m\u001b[0mrandom\u001b[0m\u001b[0;34m.\u001b[0m\u001b[0msample\u001b[0m\u001b[0;34m(\u001b[0m\u001b[0mlist\u001b[0m\u001b[0;34m(\u001b[0m\u001b[0mbird_species\u001b[0m\u001b[0;34m[\u001b[0m\u001b[0;34m'class'\u001b[0m\u001b[0;34m]\u001b[0m\u001b[0;34m)\u001b[0m\u001b[0;34m,\u001b[0m \u001b[0;36m5\u001b[0m\u001b[0;34m)\u001b[0m\u001b[0;34m)\u001b[0m\u001b[0;34m\u001b[0m\u001b[0;34m\u001b[0m\u001b[0m\n\u001b[1;32m      5\u001b[0m \u001b[0mbs_list\u001b[0m\u001b[0;34m\u001b[0m\u001b[0;34m\u001b[0m\u001b[0m\n",
      "\u001b[0;31mNameError\u001b[0m: name 'pd' is not defined"
     ]
    }
   ],
   "source": [
    "# Read the Data\n",
    "bird_species = pd.read_csv('/Users/sandeepreddy/Documents/concordia-bootcamps/predictive_modelling_competition/data/class_dict.csv')\n",
    "# Select 5 random birds\n",
    "bs_list = sorted(random.sample(list(bird_species['class']), 5))\n",
    "bs_list"
   ]
  },
  {
   "cell_type": "code",
   "execution_count": 11,
   "metadata": {},
   "outputs": [],
   "source": [
    "# Assign the folders to variables\n",
    "\n",
    "test_folder =  '/Users/sandeepreddy/Documents/concordia-bootcamps/predictive_modelling_competition/data/test'\n",
    "train_folder = '/Users/sandeepreddy/Documents/concordia-bootcamps/predictive_modelling_competition/data/train'\n",
    "validate_folder = '/Users/sandeepreddy/Documents/concordia-bootcamps/predictive_modelling_competition/data/valid'"
   ]
  },
  {
   "cell_type": "code",
   "execution_count": 4,
   "metadata": {},
   "outputs": [],
   "source": [
    "# Seperate folders for the randomly selected birds\n",
    "\n",
    "test5_folder = '/Users/sandeepreddy/Documents/concordia-bootcamps/predictive_modelling_competition/data/test_5'\n",
    "train5_folder = '/Users/sandeepreddy/Documents/concordia-bootcamps/predictive_modelling_competition/data/train_5'\n",
    "validate5_folder = '/Users/sandeepreddy/Documents/concordia-bootcamps/predictive_modelling_competition/data/validate_5'"
   ]
  },
  {
   "cell_type": "code",
   "execution_count": 14,
   "metadata": {},
   "outputs": [],
   "source": [
    "# Function to seperate the randomly selected birds files to new folder\n",
    "\n",
    "def move_bird_files(from_loc, to_loc):\n",
    "    list_dir = os.listdir(from_loc)\n",
    "    for file_loc in list_dir:\n",
    "        if file_loc in bs_list:\n",
    "            file_to_move = os.path.join(from_loc, file_loc)\n",
    "            shutil.move(file_to_move, to_loc)"
   ]
  },
  {
   "cell_type": "code",
   "execution_count": 15,
   "metadata": {},
   "outputs": [],
   "source": [
    "move_bird_files(test_folder,test5_folder)\n",
    "move_bird_files(train_folder,train5_folder)\n",
    "move_bird_files(validate_folder,validate5_folder)"
   ]
  }
 ],
 "metadata": {
  "interpreter": {
   "hash": "7127acf375670f7564359a6fcd607b9a8a4ae59003bbf7f29402ecd3cb366bfb"
  },
  "kernelspec": {
   "display_name": "Python 3.8.8 64-bit ('base': conda)",
   "language": "python",
   "name": "python388jvsc74a57bd07127acf375670f7564359a6fcd607b9a8a4ae59003bbf7f29402ecd3cb366bfb"
  },
  "language_info": {
   "codemirror_mode": {
    "name": "ipython",
    "version": 3
   },
   "file_extension": ".py",
   "mimetype": "text/x-python",
   "name": "python",
   "nbconvert_exporter": "python",
   "pygments_lexer": "ipython3",
   "version": "3.8.8"
  }
 },
 "nbformat": 4,
 "nbformat_minor": 2
}
